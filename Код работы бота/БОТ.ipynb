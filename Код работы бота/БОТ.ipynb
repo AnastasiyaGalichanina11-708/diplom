{
  "nbformat": 4,
  "nbformat_minor": 0,
  "metadata": {
    "colab": {
      "name": "БОТ",
      "provenance": [],
      "collapsed_sections": []
    },
    "kernelspec": {
      "display_name": "Python 3",
      "name": "python3"
    },
    "language_info": {
      "name": "python"
    }
  },
  "cells": [
    {
      "cell_type": "code",
      "metadata": {
        "id": "_W6NzJSB2qKS"
      },
      "source": [
        "import json"
      ],
      "execution_count": null,
      "outputs": []
    },
    {
      "cell_type": "code",
      "metadata": {
        "colab": {
          "base_uri": "https://localhost:8080/"
        },
        "id": "pWb4MOMB222q",
        "outputId": "afb06065-c49a-4de4-8480-858a7be735e7"
      },
      "source": [
        "!pip install python-telegram-bot "
      ],
      "execution_count": null,
      "outputs": [
        {
          "output_type": "stream",
          "text": [
            "Requirement already satisfied: python-telegram-bot in /usr/local/lib/python3.7/dist-packages (13.6)\n",
            "Requirement already satisfied: cachetools==4.2.2 in /usr/local/lib/python3.7/dist-packages (from python-telegram-bot) (4.2.2)\n",
            "Requirement already satisfied: tornado>=6.1 in /usr/local/lib/python3.7/dist-packages (from python-telegram-bot) (6.1)\n",
            "Requirement already satisfied: certifi in /usr/local/lib/python3.7/dist-packages (from python-telegram-bot) (2021.5.30)\n",
            "Requirement already satisfied: pytz>=2018.6 in /usr/local/lib/python3.7/dist-packages (from python-telegram-bot) (2018.9)\n",
            "Requirement already satisfied: APScheduler==3.6.3 in /usr/local/lib/python3.7/dist-packages (from python-telegram-bot) (3.6.3)\n",
            "Requirement already satisfied: six>=1.4.0 in /usr/local/lib/python3.7/dist-packages (from APScheduler==3.6.3->python-telegram-bot) (1.15.0)\n",
            "Requirement already satisfied: setuptools>=0.7 in /usr/local/lib/python3.7/dist-packages (from APScheduler==3.6.3->python-telegram-bot) (57.0.0)\n",
            "Requirement already satisfied: tzlocal>=1.2 in /usr/local/lib/python3.7/dist-packages (from APScheduler==3.6.3->python-telegram-bot) (1.5.1)\n"
          ],
          "name": "stdout"
        }
      ]
    },
    {
      "cell_type": "code",
      "metadata": {
        "colab": {
          "base_uri": "https://localhost:8080/"
        },
        "id": "ONw78sZp3rqG",
        "outputId": "9676f96e-8850-4a21-b7ae-51959b3681b0"
      },
      "source": [
        "!pip install fasttext\n",
        "import fasttext\n",
        "model = fasttext.load_model(\"/content/drive/MyDrive/Диплом/Модели/Модельw2v.bin\")"
      ],
      "execution_count": null,
      "outputs": [
        {
          "output_type": "stream",
          "text": [
            "Requirement already satisfied: fasttext in /usr/local/lib/python3.7/dist-packages (0.9.2)\n",
            "Requirement already satisfied: numpy in /usr/local/lib/python3.7/dist-packages (from fasttext) (1.19.5)\n",
            "Requirement already satisfied: setuptools>=0.7.0 in /usr/local/lib/python3.7/dist-packages (from fasttext) (57.0.0)\n",
            "Requirement already satisfied: pybind11>=2.2 in /usr/local/lib/python3.7/dist-packages (from fasttext) (2.6.2)\n"
          ],
          "name": "stdout"
        },
        {
          "output_type": "stream",
          "text": [
            "Warning : `load_model` does not return WordVectorModel or SupervisedModel any more, but a `FastText` object which is very similar.\n"
          ],
          "name": "stderr"
        }
      ]
    },
    {
      "cell_type": "markdown",
      "metadata": {
        "id": "gFgR91yIA91k"
      },
      "source": [
        "Проверка работы(можно удалить)"
      ]
    },
    {
      "cell_type": "markdown",
      "metadata": {
        "id": "dN5QPd23BHpf"
      },
      "source": [
        "Проверка\n"
      ]
    },
    {
      "cell_type": "code",
      "metadata": {
        "id": "r_RB8ot2yOCV"
      },
      "source": [
        "import logging\n",
        "from telegram import Update, ForceReply, ReplyKeyboardMarkup, ReplyKeyboardRemove, InlineKeyboardButton, InlineKeyboardMarkup\n",
        "from telegram.ext import Updater, CommandHandler, MessageHandler, Filters, CallbackContext, CallbackQueryHandler,  ConversationHandler\n",
        "# Enable logging\n",
        "logging.basicConfig(\n",
        "    format='%(asctime)s - %(name)s - %(levelname)s - %(message)s', level=logging.INFO\n",
        ")\n",
        "global s,h,a,o\n",
        "a=0\n",
        "h=0\n",
        "o=0\n",
        "s=0\n",
        "logger = logging.getLogger(__name__)\n"
      ],
      "execution_count": null,
      "outputs": []
    },
    {
      "cell_type": "code",
      "metadata": {
        "id": "uL81Msw8ySPd"
      },
      "source": [
        "def echo(update: Update, _: CallbackContext) -> None:\n",
        "    \"\"\"Echo the user message.\"\"\"\n",
        "    question = update.message.text\n",
        "    if question==\"😄\": pred=\"__label__happy\" \n",
        "    else: pred=model.predict(question)[0][0]\n",
        "    print(update.message.text)\n",
        "    reply = \"Оценка: \" + pred  +  \"\\nЕсли я ответил неправильно, ты можешь поправить меня. Научи меня, команда -  /teach_me\" \n",
        "    update.message.reply_text(reply)"
      ],
      "execution_count": null,
      "outputs": []
    },
    {
      "cell_type": "code",
      "metadata": {
        "id": "buGySHdztn43"
      },
      "source": [
        "FIRST, SECOND = range(2)\n",
        "ONE, TWO, THREE, FOUR = range(4)\n",
        "#ОЦЕНКА Да или Нет.  Если да, переходим на выход 3\n",
        "#если нет, то переходим к оценке \n",
        "def teach_me(update: Update, context: CallbackContext) -> int:\n",
        "    user = update.message.from_user\n",
        "    logger.info(\"User %s started the conversation.\", user.first_name)\n",
        "    \n",
        "    keyboard = [\n",
        "        [\n",
        "            InlineKeyboardButton(\"Да\", callback_data=str(THREE)),\n",
        "            InlineKeyboardButton(\"Нет\", callback_data=str(ONE)),\n",
        "        ]\n",
        "    ]\n",
        "    reply_markup = InlineKeyboardMarkup(keyboard)\n",
        "\n",
        "    update.message.reply_text(\"Я ответил правильно? \", reply_markup=reply_markup)\n",
        "\n",
        "    return FIRST\n",
        "\n",
        "\n",
        "\n",
        "\n",
        "def one(update: Update, context: CallbackContext) -> int:\n",
        "    \"\"\"Show new choice of buttons\"\"\"\n",
        "    query = update.callback_query\n",
        "    query.answer()\n",
        "    keyboard = [\n",
        "        [\n",
        "            InlineKeyboardButton(\"Happy\", callback_data=str(THREE)),\n",
        "            InlineKeyboardButton(\"Sad\", callback_data=str(THREE)),\n",
        "            InlineKeyboardButton(\"Angry\", callback_data=str(THREE)),\n",
        "            InlineKeyboardButton(\"Other\", callback_data=str(THREE)),\n",
        "        ]\n",
        "    ]\n",
        "    reply_markup = InlineKeyboardMarkup(keyboard)\n",
        "    query.edit_message_text(\n",
        "        text=\"Выбери правильный\", reply_markup=reply_markup\n",
        "    )\n",
        "    return FIRST \n",
        "       \n",
        "def three(update: Update, context: CallbackContext) -> int:\n",
        "    \"\"\"Show new choice of buttons\"\"\"\n",
        "    query = update.callback_query\n",
        "    query.answer()\n",
        "    keyboard = [\n",
        "        [\n",
        "            InlineKeyboardButton(\"Статистика\", callback_data=str(ONE)),\n",
        "            InlineKeyboardButton(\"Нет спасибо\", callback_data=str(TWO)),\n",
        "        ]\n",
        "    ]\n",
        "    reply_markup = InlineKeyboardMarkup(keyboard)\n",
        "    query.edit_message_text(\n",
        "        text=\"Спасибо, что оценил. Я могу вывести статистику твоих сообщений. Как тебе идея?\", reply_markup=reply_markup\n",
        "    )\n",
        "    # Transfer to conversation state `SECOND`\n",
        "    return SECOND\n",
        "    \n",
        "def two(update: Update, context: CallbackContext) -> int:\n",
        "    \"\"\"Show new choice of buttons\"\"\"\n",
        "    query = update.callback_query\n",
        "    query.answer()\n",
        "    keyboard = [\n",
        "        [\n",
        "            InlineKeyboardButton(\"1\", callback_data=str(ONE)),\n",
        "            InlineKeyboardButton(\"3\", callback_data=str(THREE)),\n",
        "        ]\n",
        "    ]\n",
        "    reply_markup = InlineKeyboardMarkup(keyboard)\n",
        "    query.edit_message_text(\n",
        "        text=\"Статистика\\nHappy: 3\\nAngry: 3\\nSad: 1\\nOthers: 0\\nОбщее количество: 7\")\n",
        "    return FIRST\n",
        "    \n",
        "def stat(update: Update, context: CallbackContext) -> None:\n",
        "    text=\"Статистика\\nHappy: 3\\nAngry: 1\\nSad: 1\\nOthers: 0\\nОбщее количество: 5\"\n",
        "    update.message.reply_text(text)\n",
        "    \n",
        "def end(update: Update, context: CallbackContext) -> int:\n",
        "    query = update.callback_query\n",
        "    query.answer()\n",
        "    query.edit_message_text(text=\"Ну как? Продолжим? Введи следующее сообщение\")\n",
        "    return ConversationHandler.END\n",
        "\n",
        "def main() -> None:\n",
        "    \"\"\"Run the bot.\"\"\"\n",
        "    # Create the Updater and pass it your bot's token.\n",
        "    updater = Updater(\"1805287710:AAEuyNznhuueZSVz8ZKKjrLiKcKfTxCYF4A\")\n",
        "\n",
        "    dispatcher = updater.dispatcher\n",
        "\n",
        "    dispatcher.add_handler(MessageHandler(Filters.text & ~Filters.command, echo))\n",
        "    conv_handler = ConversationHandler(\n",
        "        entry_points=[CommandHandler('teach_me', teach_me)],\n",
        "        states={\n",
        "            FIRST: [\n",
        "                CallbackQueryHandler(one, pattern='^' + str(ONE) + '$'),\n",
        "                CallbackQueryHandler(two, pattern='^' + str(TWO) + '$'),\n",
        "                CallbackQueryHandler(three, pattern='^' + str(THREE) + '$'),\n",
        "            ],\n",
        "            SECOND: [\n",
        "                CallbackQueryHandler(two, pattern='^' + str(ONE) + '$'),\n",
        "                CallbackQueryHandler(end, pattern='^' + str(TWO) + '$'),\n",
        "            ],\n",
        "        },\n",
        "        fallbacks=[CommandHandler('teach_me', teach_me)],\n",
        "    )\n",
        "\n",
        "    # Add ConversationHandler to dispatcher that will be used for handling updates\n",
        "    dispatcher.add_handler(conv_handler)\n",
        "    dispatcher.add_handler(CommandHandler(\"stat\", stat))\n",
        "    # Start the Bot\n",
        "    updater.start_polling()\n",
        "\n",
        "    # Run the bot until you press Ctrl-C or the process receives SIGINT,\n",
        "    # SIGTERM or SIGABRT. This should be used most of the time, since\n",
        "    # start_polling() is non-blocking and will stop the bot gracefully.\n",
        "    updater.idle()\n",
        "\n",
        "\n"
      ],
      "execution_count": null,
      "outputs": []
    },
    {
      "cell_type": "code",
      "metadata": {
        "colab": {
          "base_uri": "https://localhost:8080/"
        },
        "id": "Ysw1aMDq1Ysx",
        "outputId": "561a6f8a-9ffc-462e-b54e-9c1b7da750ac"
      },
      "source": [
        "main()"
      ],
      "execution_count": null,
      "outputs": [
        {
          "output_type": "stream",
          "text": [
            "/usr/local/lib/python3.7/dist-packages/telegram/ext/conversationhandler.py:288: UserWarning: If 'per_message=False', 'CallbackQueryHandler' will not be tracked for every message.\n",
            "  \"If 'per_message=False', 'CallbackQueryHandler' will not be \"\n",
            "2021-06-17 10:52:51,874 - apscheduler.scheduler - INFO - Scheduler started\n"
          ],
          "name": "stderr"
        },
        {
          "output_type": "stream",
          "text": [
            "thanks for a good job\n",
            "Please dont chat with me again\n"
          ],
          "name": "stdout"
        },
        {
          "output_type": "stream",
          "text": [
            "2021-06-17 10:53:50,212 - __main__ - INFO - User Анастасия started the conversation.\n"
          ],
          "name": "stderr"
        },
        {
          "output_type": "stream",
          "text": [
            "I had a amazing day at sea today. Thanks for the advice\n",
            "😄\n",
            "thanks for a good job\n",
            "thanks for a good job\n",
            "Please dont chat with me again\n"
          ],
          "name": "stdout"
        },
        {
          "output_type": "stream",
          "text": [
            "2021-06-17 10:56:14,283 - __main__ - INFO - User Анастасия started the conversation.\n"
          ],
          "name": "stderr"
        },
        {
          "output_type": "stream",
          "text": [
            "I had a amazing day at sea today. Thanks for the advice\n",
            "Recently I broke up with boyfriend. It hurts me\n",
            "😄\n",
            "I wanted you to answer my question. What are you writing? How stupid you are\n",
            "A ok by wow you are :o) i don't want to talk to u\n"
          ],
          "name": "stdout"
        },
        {
          "output_type": "stream",
          "text": [
            "2021-06-17 10:56:56,926 - __main__ - INFO - User Анастасия started the conversation.\n",
            "2021-06-17 11:38:27,559 - telegram.ext.updater - INFO - Received signal 2 (SIGINT), stopping...\n",
            "2021-06-17 11:38:27,565 - apscheduler.scheduler - INFO - Scheduler has been shut down\n"
          ],
          "name": "stderr"
        }
      ]
    },
    {
      "cell_type": "code",
      "metadata": {
        "id": "XIWkioK2ddD6"
      },
      "source": [
        "thanks for a good job"
      ],
      "execution_count": null,
      "outputs": []
    },
    {
      "cell_type": "code",
      "metadata": {
        "id": "WutQfBdGdUQ8"
      },
      "source": [
        "I m in trouble"
      ],
      "execution_count": null,
      "outputs": []
    },
    {
      "cell_type": "code",
      "metadata": {
        "id": "T4xTfzNxeMOb"
      },
      "source": [
        "I am satisfied with the result. I double-checked everything, everything is fine"
      ],
      "execution_count": null,
      "outputs": []
    },
    {
      "cell_type": "code",
      "metadata": {
        "id": "uehoZDkBdUHq"
      },
      "source": [
        "I had a amazing day at sea today. Thanks for the advice"
      ],
      "execution_count": null,
      "outputs": []
    },
    {
      "cell_type": "code",
      "metadata": {
        "id": "FdU4u7tHdUBc"
      },
      "source": [
        "Please dont chat with me again"
      ],
      "execution_count": null,
      "outputs": []
    },
    {
      "cell_type": "code",
      "metadata": {
        "id": "X92mFpNqdT7a"
      },
      "source": [
        "I wanted you to answer my question. What are you writing? How stupid you are"
      ],
      "execution_count": null,
      "outputs": []
    },
    {
      "cell_type": "code",
      "metadata": {
        "id": "MQBZX-aRdTyv"
      },
      "source": [
        "Recently I broke up with boyfriend. It hurts me"
      ],
      "execution_count": null,
      "outputs": []
    },
    {
      "cell_type": "code",
      "metadata": {
        "id": "rQl-vR8MdTrA"
      },
      "source": [
        "My order didn't arrive on time. how did it happen"
      ],
      "execution_count": null,
      "outputs": []
    },
    {
      "cell_type": "code",
      "metadata": {
        "id": "lShjMHwZdTdU"
      },
      "source": [
        "ok by wow you are :o) i don't want to talk to u"
      ],
      "execution_count": null,
      "outputs": []
    },
    {
      "cell_type": "code",
      "metadata": {
        "id": "_7s4XK3fhjcj"
      },
      "source": [
        "thanks for a good job"
      ],
      "execution_count": null,
      "outputs": []
    },
    {
      "cell_type": "code",
      "metadata": {
        "id": "NRcYmcyrhjSC"
      },
      "source": [
        ""
      ],
      "execution_count": null,
      "outputs": []
    },
    {
      "cell_type": "code",
      "metadata": {
        "id": "wqb-AQ0Wg20u"
      },
      "source": [
        "thanks for a good job"
      ],
      "execution_count": null,
      "outputs": []
    },
    {
      "cell_type": "code",
      "metadata": {
        "id": "hNBTHb95g2xA"
      },
      "source": [
        "Please dont chat with me again "
      ],
      "execution_count": null,
      "outputs": []
    },
    {
      "cell_type": "code",
      "metadata": {
        "id": "5VTkHm9Mh1nH"
      },
      "source": [
        "Неверное решение исправь"
      ],
      "execution_count": null,
      "outputs": []
    },
    {
      "cell_type": "code",
      "metadata": {
        "id": "OQpj5IXtg2s6"
      },
      "source": [
        "I had a amazing day at sea today. Thanks for the advice"
      ],
      "execution_count": null,
      "outputs": []
    },
    {
      "cell_type": "code",
      "metadata": {
        "id": "o7-4YhdnhcCy"
      },
      "source": [
        "Recently I broke up with boyfriend. It hurts me"
      ],
      "execution_count": null,
      "outputs": []
    },
    {
      "cell_type": "code",
      "metadata": {
        "id": "BSv5OdCxnEix"
      },
      "source": [
        ""
      ],
      "execution_count": null,
      "outputs": []
    },
    {
      "cell_type": "code",
      "metadata": {
        "id": "DzP5LFHohlsu"
      },
      "source": [
        "/stat"
      ],
      "execution_count": null,
      "outputs": []
    },
    {
      "cell_type": "code",
      "metadata": {
        "id": "nz6VdLDWhtBv"
      },
      "source": [
        "I wanted you to answer my question. What are you writing? How stupid you are"
      ],
      "execution_count": null,
      "outputs": []
    },
    {
      "cell_type": "code",
      "metadata": {
        "id": "NXqule0Jhtw_"
      },
      "source": [
        "A ok by wow you are :o) i don't want to talk to u"
      ],
      "execution_count": null,
      "outputs": []
    },
    {
      "cell_type": "code",
      "metadata": {
        "id": "dXrpSy9wiVk3"
      },
      "source": [
        "Вывести статистику"
      ],
      "execution_count": null,
      "outputs": []
    }
  ]
}