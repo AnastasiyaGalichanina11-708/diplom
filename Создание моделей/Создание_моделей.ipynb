{
  "nbformat": 4,
  "nbformat_minor": 0,
  "metadata": {
    "colab": {
      "name": "Создание моделей.ipynb",
      "provenance": [],
      "collapsed_sections": [
        "V2Xdyh8yYlVo",
        "Rs01n_wjY2Sl",
        "xAlY_9yAZE5l"
      ]
    },
    "kernelspec": {
      "name": "python3",
      "display_name": "Python 3"
    },
    "language_info": {
      "name": "python"
    }
  },
  "cells": [
    {
      "cell_type": "markdown",
      "metadata": {
        "id": "NEnM5Lh9OpPv"
      },
      "source": [
        "#Подключение библиотек"
      ]
    },
    {
      "cell_type": "code",
      "metadata": {
        "id": "Jz9yVafTOOCD"
      },
      "source": [
        "import numpy as np \n",
        "import pandas as pd \n",
        "from sklearn.preprocessing import LabelEncoder, OneHotEncoder\n",
        "from tqdm import tqdm\n",
        "from sklearn.model_selection import train_test_split\n",
        "import tensorflow as tf\n",
        "from keras.models import Sequential\n",
        "from keras.layers.recurrent import LSTM, GRU,SimpleRNN\n",
        "from keras.layers.core import Dense, Activation, Dropout\n",
        "from keras.layers.embeddings import Embedding\n",
        "from keras.layers.normalization import BatchNormalization\n",
        "from keras.utils import np_utils\n",
        "from sklearn import preprocessing, decomposition, model_selection, metrics, pipeline\n",
        "from keras.layers import GlobalMaxPooling1D, Conv1D, MaxPooling1D, Flatten, Bidirectional, SpatialDropout1D, Input\n",
        "from keras.preprocessing import sequence, text\n",
        "from keras.callbacks import EarlyStopping\n",
        "import random\n",
        "\n",
        "import matplotlib.pyplot as plt\n",
        "import seaborn as sns\n",
        "%matplotlib inline\n",
        "from plotly import graph_objs as go\n",
        "import plotly.express as px\n",
        "import plotly.figure_factory as ff"
      ],
      "execution_count": null,
      "outputs": []
    },
    {
      "cell_type": "markdown",
      "metadata": {
        "id": "598Mw-H9OkfX"
      },
      "source": [
        "#Далее надо будет заменить данные для обученния"
      ]
    },
    {
      "cell_type": "code",
      "metadata": {
        "id": "GD1V6802O9p5"
      },
      "source": [
        "train = pd.read_csv('/content/drive/MyDrive/4/train_merge.csv') \n",
        "test = pd.read_csv('/content/drive/MyDrive/4/testMy.csv', encoding = 'latin1')"
      ],
      "execution_count": null,
      "outputs": []
    },
    {
      "cell_type": "code",
      "metadata": {
        "id": "N84bpbANPHeo",
        "colab": {
          "base_uri": "https://localhost:8080/",
          "height": 204
        },
        "outputId": "3dbdda23-ab77-4fb4-b52a-ef0a4f166188"
      },
      "source": [
        "train.head()"
      ],
      "execution_count": null,
      "outputs": [
        {
          "output_type": "execute_result",
          "data": {
            "text/html": [
              "<div>\n",
              "<style scoped>\n",
              "    .dataframe tbody tr th:only-of-type {\n",
              "        vertical-align: middle;\n",
              "    }\n",
              "\n",
              "    .dataframe tbody tr th {\n",
              "        vertical-align: top;\n",
              "    }\n",
              "\n",
              "    .dataframe thead th {\n",
              "        text-align: right;\n",
              "    }\n",
              "</style>\n",
              "<table border=\"1\" class=\"dataframe\">\n",
              "  <thead>\n",
              "    <tr style=\"text-align: right;\">\n",
              "      <th></th>\n",
              "      <th>label</th>\n",
              "      <th>review</th>\n",
              "    </tr>\n",
              "  </thead>\n",
              "  <tbody>\n",
              "    <tr>\n",
              "      <th>0</th>\n",
              "      <td>others</td>\n",
              "      <td>Don't worry  I'm girl hmm how do I know if you...</td>\n",
              "    </tr>\n",
              "    <tr>\n",
              "      <th>1</th>\n",
              "      <td>angry</td>\n",
              "      <td>When did I? saw many times i think -_- No. I n...</td>\n",
              "    </tr>\n",
              "    <tr>\n",
              "      <th>2</th>\n",
              "      <td>others</td>\n",
              "      <td>By by Google Chrome Where you live</td>\n",
              "    </tr>\n",
              "    <tr>\n",
              "      <th>3</th>\n",
              "      <td>angry</td>\n",
              "      <td>U r ridiculous I might be ridiculous but I am ...</td>\n",
              "    </tr>\n",
              "    <tr>\n",
              "      <th>4</th>\n",
              "      <td>others</td>\n",
              "      <td>Just for time pass wt do u do 4 a living then ...</td>\n",
              "    </tr>\n",
              "  </tbody>\n",
              "</table>\n",
              "</div>"
            ],
            "text/plain": [
              "    label                                             review\n",
              "0  others  Don't worry  I'm girl hmm how do I know if you...\n",
              "1   angry  When did I? saw many times i think -_- No. I n...\n",
              "2  others                 By by Google Chrome Where you live\n",
              "3   angry  U r ridiculous I might be ridiculous but I am ...\n",
              "4  others  Just for time pass wt do u do 4 a living then ..."
            ]
          },
          "metadata": {
            "tags": []
          },
          "execution_count": 3
        }
      ]
    },
    {
      "cell_type": "code",
      "metadata": {
        "id": "p2Kr-_GQPK_W",
        "colab": {
          "base_uri": "https://localhost:8080/"
        },
        "outputId": "84a6eee7-a5ef-41da-f36f-c231e55b53ee"
      },
      "source": [
        "train.shape"
      ],
      "execution_count": null,
      "outputs": [
        {
          "output_type": "execute_result",
          "data": {
            "text/plain": [
              "(30160, 2)"
            ]
          },
          "metadata": {
            "tags": []
          },
          "execution_count": 4
        }
      ]
    },
    {
      "cell_type": "code",
      "metadata": {
        "id": "MuGacYHiPPcV",
        "colab": {
          "base_uri": "https://localhost:8080/"
        },
        "outputId": "f6fdc2d7-1459-48b9-d53b-e381f4a0774c"
      },
      "source": [
        "label = train['label'].unique()\n",
        "label"
      ],
      "execution_count": null,
      "outputs": [
        {
          "output_type": "execute_result",
          "data": {
            "text/plain": [
              "array(['others', 'angry', 'sad', 'happy'], dtype=object)"
            ]
          },
          "metadata": {
            "tags": []
          },
          "execution_count": 5
        }
      ]
    },
    {
      "cell_type": "markdown",
      "metadata": {
        "id": "_CdcHIF-a2OO"
      },
      "source": [
        ""
      ]
    },
    {
      "cell_type": "code",
      "metadata": {
        "id": "YS-VCl2na3_p",
        "colab": {
          "base_uri": "https://localhost:8080/"
        },
        "outputId": "3337e001-9a92-4428-c5e2-b5e848991fe9"
      },
      "source": [
        "train['review'].apply(lambda x:len(str(x).split())).max()"
      ],
      "execution_count": null,
      "outputs": [
        {
          "output_type": "execute_result",
          "data": {
            "text/plain": [
              "157"
            ]
          },
          "metadata": {
            "tags": []
          },
          "execution_count": 6
        }
      ]
    },
    {
      "cell_type": "code",
      "metadata": {
        "id": "fDIRfNYPulU-",
        "colab": {
          "base_uri": "https://localhost:8080/"
        },
        "outputId": "71b19e8a-d93b-4c82-8733-50576f70a8b4"
      },
      "source": [
        "label = train['label'].unique()\n",
        "label"
      ],
      "execution_count": null,
      "outputs": [
        {
          "output_type": "execute_result",
          "data": {
            "text/plain": [
              "array(['others', 'angry', 'sad', 'happy'], dtype=object)"
            ]
          },
          "metadata": {
            "tags": []
          },
          "execution_count": 7
        }
      ]
    },
    {
      "cell_type": "code",
      "metadata": {
        "id": "rbkREvLEulcL",
        "colab": {
          "base_uri": "https://localhost:8080/"
        },
        "outputId": "53d0be96-403f-4f95-bc51-9ee8e4aab514"
      },
      "source": [
        "y=train['label'].values\n",
        "y = pd.get_dummies(y)\n",
        "print('Shape of label tensor:', y)"
      ],
      "execution_count": null,
      "outputs": [
        {
          "output_type": "stream",
          "text": [
            "Shape of label tensor:        angry  happy  others  sad\n",
            "0          0      0       1    0\n",
            "1          1      0       0    0\n",
            "2          0      0       1    0\n",
            "3          1      0       0    0\n",
            "4          0      0       1    0\n",
            "...      ...    ...     ...  ...\n",
            "30155      0      0       1    0\n",
            "30156      0      0       0    1\n",
            "30157      0      0       1    0\n",
            "30158      0      0       1    0\n",
            "30159      0      0       1    0\n",
            "\n",
            "[30160 rows x 4 columns]\n"
          ],
          "name": "stdout"
        }
      ]
    },
    {
      "cell_type": "code",
      "metadata": {
        "id": "km2i4tl2uliO",
        "colab": {
          "base_uri": "https://localhost:8080/"
        },
        "outputId": "10b753fa-b144-4767-b375-66937f8705ab"
      },
      "source": [
        "tmp = train['review'] + test['review']\n",
        "tmp = tmp.astype(str)\n",
        "tokenizer = text.Tokenizer(num_words=400000,\n",
        "    filters='!\"#$%&()*+,-./:;<=>?@[\\\\]^_`{|}~\\t\\n',\n",
        "    lower=True,\n",
        "    split=\" \")\n",
        "max_len = 70\n",
        "tokenizer.fit_on_texts(tmp)\n",
        "word_index = tokenizer.word_index\n",
        "len(word_index)"
      ],
      "execution_count": null,
      "outputs": [
        {
          "output_type": "execute_result",
          "data": {
            "text/plain": [
              "24886"
            ]
          },
          "metadata": {
            "tags": []
          },
          "execution_count": 9
        }
      ]
    },
    {
      "cell_type": "code",
      "metadata": {
        "id": "NhuY-Tlqulnv",
        "colab": {
          "base_uri": "https://localhost:8080/"
        },
        "outputId": "026b4b36-befd-4036-c34f-4af0e18e4051"
      },
      "source": [
        "X = train['review'].values\n",
        "X = tokenizer.texts_to_sequences(X)\n",
        "X = sequence.pad_sequences(X, maxlen=max_len)\n",
        "print('Shape of data tensor:', X.shape)"
      ],
      "execution_count": null,
      "outputs": [
        {
          "output_type": "stream",
          "text": [
            "Shape of data tensor: (30160, 70)\n"
          ],
          "name": "stdout"
        }
      ]
    },
    {
      "cell_type": "code",
      "metadata": {
        "id": "cuamtFVCulsF"
      },
      "source": [
        "x_train, x_test, y_train, y_test = train_test_split(X, y, \n",
        "                                                  random_state=46, \n",
        "                                                  test_size=0.3, shuffle=True)"
      ],
      "execution_count": null,
      "outputs": []
    },
    {
      "cell_type": "code",
      "metadata": {
        "id": "7w-L5aMculxB",
        "colab": {
          "base_uri": "https://localhost:8080/"
        },
        "outputId": "62b8447f-dd45-4fd6-8e5e-b546dbf2ffa3"
      },
      "source": [
        "print('x_train.shape: ' + str(x_train.shape),' y_train.shape: '+str(y_train.shape))\n",
        "print('x_test.shape: ' + str(x_test.shape),' y_train.shape: '+str(y_test.shape))"
      ],
      "execution_count": null,
      "outputs": [
        {
          "output_type": "stream",
          "text": [
            "x_train.shape: (21112, 70)  y_train.shape: (21112, 4)\n",
            "x_test.shape: (9048, 70)  y_train.shape: (9048, 4)\n"
          ],
          "name": "stdout"
        }
      ]
    },
    {
      "cell_type": "markdown",
      "metadata": {
        "id": "x7_3VTgfvY9l"
      },
      "source": [
        "#Embending"
      ]
    },
    {
      "cell_type": "code",
      "metadata": {
        "id": "B5SOgdvHul1l",
        "colab": {
          "base_uri": "https://localhost:8080/"
        },
        "outputId": "d4424c69-f5db-4957-87b3-7eafce73d096"
      },
      "source": [
        "embeddings_index = {}\n",
        "f = open('/content/drive/MyDrive/4/glove.840B.300d.txt','r',encoding='utf-8')\n",
        "for line in tqdm(f):\n",
        "    values = line.split(' ')\n",
        "    word = values[0]\n",
        "    coefs = np.asarray([float(val) for val in values[1:]])\n",
        "    embeddings_index[word] = coefs\n",
        "f.close()\n",
        "\n",
        "print('Found %s word vectors.' % len(embeddings_index))"
      ],
      "execution_count": null,
      "outputs": [
        {
          "output_type": "stream",
          "text": [
            "2196018it [04:24, 8289.62it/s]"
          ],
          "name": "stderr"
        },
        {
          "output_type": "stream",
          "text": [
            "Found 2196017 word vectors.\n"
          ],
          "name": "stdout"
        },
        {
          "output_type": "stream",
          "text": [
            "\n"
          ],
          "name": "stderr"
        }
      ]
    },
    {
      "cell_type": "code",
      "metadata": {
        "id": "kzpS785kul7P",
        "colab": {
          "base_uri": "https://localhost:8080/"
        },
        "outputId": "c0e09923-b61a-4cd9-df97-0a953635baa3"
      },
      "source": [
        "embedding_matrix = np.zeros((len(word_index) + 1, 300))\n",
        "for word, i in tqdm(word_index.items()):\n",
        "    embedding_vector = embeddings_index.get(word)\n",
        "    if embedding_vector is not None:\n",
        "        embedding_matrix[i] = embedding_vector"
      ],
      "execution_count": null,
      "outputs": [
        {
          "output_type": "stream",
          "text": [
            "100%|██████████| 24886/24886 [00:00<00:00, 435525.92it/s]\n"
          ],
          "name": "stderr"
        }
      ]
    },
    {
      "cell_type": "markdown",
      "metadata": {
        "id": "7O4ADllayFtV"
      },
      "source": [
        "#Simple RNN "
      ]
    },
    {
      "cell_type": "code",
      "metadata": {
        "id": "4HlvARqh2SG-",
        "colab": {
          "base_uri": "https://localhost:8080/"
        },
        "outputId": "85c96060-e20c-4325-e598-72a99bbbbc22"
      },
      "source": [
        "model=tf.keras.Sequential([\n",
        "  tf.keras.layers.InputLayer(input_shape=x_train.shape[1]),\n",
        "  tf.keras.layers.Embedding(len(tokenizer.word_index)+1,32),\n",
        "  tf.keras.layers.SimpleRNN(100),\n",
        "  tf.keras.layers.Dense(4, activation='softmax')])\n",
        "model.compile(loss='categorical_crossentropy', optimizer='adam', metrics=['accuracy','categorical_accuracy','AUC','Precision','Recall'])    \n",
        "model.summary()"
      ],
      "execution_count": null,
      "outputs": [
        {
          "output_type": "stream",
          "text": [
            "Model: \"sequential\"\n",
            "_________________________________________________________________\n",
            "Layer (type)                 Output Shape              Param #   \n",
            "=================================================================\n",
            "embedding (Embedding)        (None, 70, 32)            796384    \n",
            "_________________________________________________________________\n",
            "simple_rnn (SimpleRNN)       (None, 100)               13300     \n",
            "_________________________________________________________________\n",
            "dense (Dense)                (None, 4)                 404       \n",
            "=================================================================\n",
            "Total params: 810,088\n",
            "Trainable params: 810,088\n",
            "Non-trainable params: 0\n",
            "_________________________________________________________________\n"
          ],
          "name": "stdout"
        }
      ]
    },
    {
      "cell_type": "code",
      "metadata": {
        "id": "CmTe7JZm3TEK",
        "colab": {
          "base_uri": "https://localhost:8080/"
        },
        "outputId": "b8840118-50fe-471c-ecf7-217b4269fb5b"
      },
      "source": [
        "modelResults = model.fit(x_train, y_train, epochs=5, batch_size=64,validation_split=0.1)"
      ],
      "execution_count": null,
      "outputs": [
        {
          "output_type": "stream",
          "text": [
            "Epoch 1/5\n",
            "297/297 [==============================] - 14s 41ms/step - loss: 0.9856 - accuracy: 0.6070 - categorical_accuracy: 0.6070 - auc: 0.8338 - precision: 0.7445 - recall: 0.4103 - val_loss: 0.6078 - val_accuracy: 0.7727 - val_categorical_accuracy: 0.7727 - val_auc: 0.9379 - val_precision: 0.8181 - val_recall: 0.7240\n",
            "Epoch 2/5\n",
            "297/297 [==============================] - 11s 38ms/step - loss: 0.4576 - accuracy: 0.8433 - categorical_accuracy: 0.8433 - auc: 0.9632 - precision: 0.8707 - recall: 0.8079 - val_loss: 0.5139 - val_accuracy: 0.8168 - val_categorical_accuracy: 0.8168 - val_auc: 0.9536 - val_precision: 0.8390 - val_recall: 0.7898\n",
            "Epoch 3/5\n",
            "297/297 [==============================] - 12s 39ms/step - loss: 0.2983 - accuracy: 0.9025 - categorical_accuracy: 0.9025 - auc: 0.9828 - precision: 0.9143 - recall: 0.8896 - val_loss: 0.5616 - val_accuracy: 0.8040 - val_categorical_accuracy: 0.8040 - val_auc: 0.9494 - val_precision: 0.8146 - val_recall: 0.7907\n",
            "Epoch 4/5\n",
            "297/297 [==============================] - 12s 39ms/step - loss: 0.2161 - accuracy: 0.9341 - categorical_accuracy: 0.9341 - auc: 0.9904 - precision: 0.9413 - recall: 0.9247 - val_loss: 0.6144 - val_accuracy: 0.8002 - val_categorical_accuracy: 0.8002 - val_auc: 0.9418 - val_precision: 0.8193 - val_recall: 0.7860\n",
            "Epoch 5/5\n",
            "297/297 [==============================] - 11s 39ms/step - loss: 0.1458 - accuracy: 0.9546 - categorical_accuracy: 0.9546 - auc: 0.9952 - precision: 0.9597 - recall: 0.9499 - val_loss: 0.6456 - val_accuracy: 0.7988 - val_categorical_accuracy: 0.7988 - val_auc: 0.9428 - val_precision: 0.8141 - val_recall: 0.7898\n"
          ],
          "name": "stdout"
        }
      ]
    },
    {
      "cell_type": "code",
      "metadata": {
        "id": "eotANjKCul_J",
        "colab": {
          "base_uri": "https://localhost:8080/"
        },
        "outputId": "cfa4ce54-4b55-4548-be6b-5d1fb9708d12"
      },
      "source": [
        "SimpleRNNModel = Sequential()\n",
        "\n",
        "SimpleRNNModel.add(Input(shape=x_train.shape[1]))\n",
        "SimpleRNNModel.add(Embedding(len(tokenizer.word_index)+1,32))\n",
        "SimpleRNNModel.add(SimpleRNN(100))\n",
        "SimpleRNNModel.add(Dense(4, activation='softmax'))\n",
        "#SimpleRNNModel.compile(loss='categorical_crossentropy', optimizer='adam', metrics=['accuracy'])\n",
        "SimpleRNNModel.compile(loss='categorical_crossentropy', optimizer='adam', metrics=['accuracy','categorical_accuracy','AUC','Precision','Recall', tf.keras.metrics.PrecisionAtRecall(recall=0.8)])    \n",
        "SimpleRNNModel.summary()"
      ],
      "execution_count": null,
      "outputs": [
        {
          "output_type": "stream",
          "text": [
            "WARNING:tensorflow:Please add `keras.layers.InputLayer` instead of `keras.Input` to Sequential model. `keras.Input` is intended to be used by Functional model.\n",
            "Model: \"sequential\"\n",
            "_________________________________________________________________\n",
            "Layer (type)                 Output Shape              Param #   \n",
            "=================================================================\n",
            "embedding (Embedding)        (None, 70, 32)            796384    \n",
            "_________________________________________________________________\n",
            "simple_rnn (SimpleRNN)       (None, 100)               13300     \n",
            "_________________________________________________________________\n",
            "dense (Dense)                (None, 4)                 404       \n",
            "=================================================================\n",
            "Total params: 810,088\n",
            "Trainable params: 810,088\n",
            "Non-trainable params: 0\n",
            "_________________________________________________________________\n"
          ],
          "name": "stdout"
        }
      ]
    },
    {
      "cell_type": "code",
      "metadata": {
        "id": "0eqB2fWuumD1",
        "colab": {
          "base_uri": "https://localhost:8080/"
        },
        "outputId": "e9dc9654-49e0-42b8-a15b-9474e6d4c02e"
      },
      "source": [
        "SimpleRNNModelResults = SimpleRNNModel.fit(x_train, y_train, epochs=5, batch_size=64,validation_split=0.1)"
      ],
      "execution_count": null,
      "outputs": [
        {
          "output_type": "stream",
          "text": [
            "Epoch 1/5\n",
            "297/297 [==============================] - 38s 44ms/step - loss: 1.1407 - accuracy: 0.5391 - categorical_accuracy: 0.5391 - auc: 0.7528 - precision: 0.5994 - recall: 0.3398 - precision_at_recall: 0.3160 - val_loss: 0.6581 - val_accuracy: 0.7604 - val_categorical_accuracy: 0.7604 - val_auc: 0.9261 - val_precision: 0.8022 - val_recall: 0.7064 - val_precision_at_recall: 0.4820\n",
            "Epoch 2/5\n",
            "297/297 [==============================] - 12s 40ms/step - loss: 0.4783 - accuracy: 0.8349 - categorical_accuracy: 0.8349 - auc: 0.9604 - precision: 0.8701 - recall: 0.7957 - precision_at_recall: 0.5456 - val_loss: 0.5061 - val_accuracy: 0.8210 - val_categorical_accuracy: 0.8210 - val_auc: 0.9539 - val_precision: 0.8456 - val_recall: 0.7936 - val_precision_at_recall: 0.6751\n",
            "Epoch 3/5\n",
            "297/297 [==============================] - 12s 40ms/step - loss: 0.3055 - accuracy: 0.8993 - categorical_accuracy: 0.8993 - auc: 0.9828 - precision: 0.9143 - recall: 0.8823 - precision_at_recall: 0.7117 - val_loss: 0.5238 - val_accuracy: 0.8163 - val_categorical_accuracy: 0.8163 - val_auc: 0.9535 - val_precision: 0.8323 - val_recall: 0.8035 - val_precision_at_recall: 0.7815\n",
            "Epoch 4/5\n",
            "297/297 [==============================] - 12s 40ms/step - loss: 0.2105 - accuracy: 0.9326 - categorical_accuracy: 0.9326 - auc: 0.9910 - precision: 0.9418 - recall: 0.9252 - precision_at_recall: 0.8010 - val_loss: 0.5767 - val_accuracy: 0.8111 - val_categorical_accuracy: 0.8111 - val_auc: 0.9487 - val_precision: 0.8187 - val_recall: 0.8016 - val_precision_at_recall: 0.8439\n",
            "Epoch 5/5\n",
            "297/297 [==============================] - 12s 39ms/step - loss: 0.1479 - accuracy: 0.9565 - categorical_accuracy: 0.9565 - auc: 0.9949 - precision: 0.9599 - recall: 0.9505 - precision_at_recall: 0.8570 - val_loss: 0.6731 - val_accuracy: 0.7931 - val_categorical_accuracy: 0.7931 - val_auc: 0.9365 - val_precision: 0.8052 - val_recall: 0.7846 - val_precision_at_recall: 0.8870\n"
          ],
          "name": "stdout"
        }
      ]
    },
    {
      "cell_type": "markdown",
      "metadata": {
        "id": "SfAmB-bRyUg2"
      },
      "source": [
        "# LSTM (Long Short Term Memory) Networks"
      ]
    },
    {
      "cell_type": "code",
      "metadata": {
        "id": "zSozhYN6umIc",
        "colab": {
          "base_uri": "https://localhost:8080/"
        },
        "outputId": "48bc4b9d-6d06-41b2-fd2a-ea0244a8e38d"
      },
      "source": [
        "SimpleLSTMModel = Sequential()\n",
        "SimpleLSTMModel.add(Input(shape=x_train.shape[1]))\n",
        "SimpleLSTMModel.add(Embedding(len(tokenizer.word_index)+1,32))\n",
        "SimpleLSTMModel.add(LSTM(100))\n",
        "SimpleLSTMModel.add(Dense(4, activation='softmax'))\n",
        "SimpleLSTMModel.compile(loss='categorical_crossentropy', optimizer='adam', metrics=['accuracy', 'Precision','Recall', tf.keras.metrics.PrecisionAtRecall(recall=0.8)])\n",
        "    \n",
        "SimpleLSTMModel.summary()"
      ],
      "execution_count": null,
      "outputs": [
        {
          "output_type": "stream",
          "text": [
            "WARNING:tensorflow:Please add `keras.layers.InputLayer` instead of `keras.Input` to Sequential model. `keras.Input` is intended to be used by Functional model.\n",
            "Model: \"sequential_1\"\n",
            "_________________________________________________________________\n",
            "Layer (type)                 Output Shape              Param #   \n",
            "=================================================================\n",
            "embedding_1 (Embedding)      (None, 70, 32)            796384    \n",
            "_________________________________________________________________\n",
            "lstm (LSTM)                  (None, 100)               53200     \n",
            "_________________________________________________________________\n",
            "dense_1 (Dense)              (None, 4)                 404       \n",
            "=================================================================\n",
            "Total params: 849,988\n",
            "Trainable params: 849,988\n",
            "Non-trainable params: 0\n",
            "_________________________________________________________________\n"
          ],
          "name": "stdout"
        }
      ]
    },
    {
      "cell_type": "code",
      "metadata": {
        "id": "QQY1oZM0umNT",
        "colab": {
          "base_uri": "https://localhost:8080/"
        },
        "outputId": "295572f6-de7c-47c2-f6db-1348308d5613"
      },
      "source": [
        "SimpleLSTMModelResults = SimpleLSTMModel.fit(x_train, y_train, epochs=5, batch_size=64,validation_split=0.1)"
      ],
      "execution_count": null,
      "outputs": [
        {
          "output_type": "stream",
          "text": [
            "Epoch 1/5\n",
            "297/297 [==============================] - 52s 157ms/step - loss: 1.1218 - accuracy: 0.5496 - precision: 0.6688 - recall: 0.2907 - precision_at_recall_1: 0.3179 - val_loss: 0.5548 - val_accuracy: 0.8007 - val_precision: 0.8400 - val_recall: 0.7557 - val_precision_at_recall_1: 0.5125\n",
            "Epoch 2/5\n",
            "297/297 [==============================] - 45s 153ms/step - loss: 0.4373 - accuracy: 0.8519 - precision: 0.8763 - recall: 0.8203 - precision_at_recall_1: 0.5830 - val_loss: 0.4706 - val_accuracy: 0.8324 - val_precision: 0.8447 - val_recall: 0.8139 - val_precision_at_recall_1: 0.7099\n",
            "Epoch 3/5\n",
            "297/297 [==============================] - 45s 153ms/step - loss: 0.3192 - accuracy: 0.8926 - precision: 0.9061 - recall: 0.8745 - precision_at_recall_1: 0.7418 - val_loss: 0.4696 - val_accuracy: 0.8338 - val_precision: 0.8541 - val_recall: 0.8120 - val_precision_at_recall_1: 0.7998\n",
            "Epoch 4/5\n",
            "297/297 [==============================] - 46s 153ms/step - loss: 0.2696 - accuracy: 0.9113 - precision: 0.9215 - recall: 0.8994 - precision_at_recall_1: 0.8156 - val_loss: 0.4885 - val_accuracy: 0.8371 - val_precision: 0.8495 - val_recall: 0.8205 - val_precision_at_recall_1: 0.8492\n",
            "Epoch 5/5\n",
            "297/297 [==============================] - 46s 154ms/step - loss: 0.2372 - accuracy: 0.9197 - precision: 0.9255 - recall: 0.9133 - precision_at_recall_1: 0.8589 - val_loss: 0.5217 - val_accuracy: 0.8243 - val_precision: 0.8393 - val_recall: 0.8087 - val_precision_at_recall_1: 0.8825\n"
          ],
          "name": "stdout"
        }
      ]
    },
    {
      "cell_type": "markdown",
      "metadata": {
        "id": "V2Xdyh8yYlVo"
      },
      "source": [
        "#GRU Gated Recurrent Units"
      ]
    },
    {
      "cell_type": "code",
      "metadata": {
        "id": "QpGfZNVrYuhj",
        "colab": {
          "base_uri": "https://localhost:8080/"
        },
        "outputId": "3eaa4179-2df7-4d13-8d6b-37d15a9816e6"
      },
      "source": [
        "SimpleGRUModel = Sequential()\n",
        "SimpleGRUModel.add(Input(shape=x_train.shape[1]))\n",
        "SimpleGRUModel.add(Embedding(len(tokenizer.word_index)+1,32))\n",
        "SimpleGRUModel.add(GRU(100))\n",
        "SimpleGRUModel.add(Dense(4, activation='softmax'))\n",
        "SimpleGRUModel.compile(loss='categorical_crossentropy', optimizer='adam', metrics=['accuracy', 'Precision','Recall', tf.keras.metrics.PrecisionAtRecall(recall=0.8)])\n",
        "    \n",
        "SimpleGRUModel.summary()"
      ],
      "execution_count": null,
      "outputs": [
        {
          "output_type": "stream",
          "text": [
            "WARNING:tensorflow:Please add `keras.layers.InputLayer` instead of `keras.Input` to Sequential model. `keras.Input` is intended to be used by Functional model.\n",
            "Model: \"sequential_2\"\n",
            "_________________________________________________________________\n",
            "Layer (type)                 Output Shape              Param #   \n",
            "=================================================================\n",
            "embedding_2 (Embedding)      (None, 70, 32)            796384    \n",
            "_________________________________________________________________\n",
            "gru (GRU)                    (None, 100)               39900     \n",
            "_________________________________________________________________\n",
            "dense_2 (Dense)              (None, 4)                 404       \n",
            "=================================================================\n",
            "Total params: 836,688\n",
            "Trainable params: 836,688\n",
            "Non-trainable params: 0\n",
            "_________________________________________________________________\n"
          ],
          "name": "stdout"
        }
      ]
    },
    {
      "cell_type": "code",
      "metadata": {
        "id": "lScaTreUYupw",
        "colab": {
          "base_uri": "https://localhost:8080/"
        },
        "outputId": "eefb4054-e6c3-4a92-b725-f6872ed21b83"
      },
      "source": [
        "SimpleGRUModelResults = SimpleGRUModel.fit(x_train, y_train, epochs=5, batch_size=64,validation_split=0.1)"
      ],
      "execution_count": null,
      "outputs": [
        {
          "output_type": "stream",
          "text": [
            "Epoch 1/5\n",
            "297/297 [==============================] - 45s 132ms/step - loss: 1.0584 - accuracy: 0.5750 - precision: 0.6696 - recall: 0.3378 - precision_at_recall_2: 0.3365 - val_loss: 0.5028 - val_accuracy: 0.8258 - val_precision: 0.8499 - val_recall: 0.7936 - val_precision_at_recall_2: 0.5867\n",
            "Epoch 2/5\n",
            "297/297 [==============================] - 38s 129ms/step - loss: 0.4073 - accuracy: 0.8625 - precision: 0.8812 - recall: 0.8394 - precision_at_recall_2: 0.6579 - val_loss: 0.4691 - val_accuracy: 0.8329 - val_precision: 0.8579 - val_recall: 0.8087 - val_precision_at_recall_2: 0.7595\n",
            "Epoch 3/5\n",
            "297/297 [==============================] - 38s 127ms/step - loss: 0.3091 - accuracy: 0.8944 - precision: 0.9083 - recall: 0.8828 - precision_at_recall_2: 0.7863 - val_loss: 0.4848 - val_accuracy: 0.8310 - val_precision: 0.8478 - val_recall: 0.8120 - val_precision_at_recall_2: 0.8364\n",
            "Epoch 4/5\n",
            "297/297 [==============================] - 38s 129ms/step - loss: 0.2623 - accuracy: 0.9122 - precision: 0.9203 - recall: 0.9025 - precision_at_recall_2: 0.8480 - val_loss: 0.5057 - val_accuracy: 0.8295 - val_precision: 0.8379 - val_recall: 0.8177 - val_precision_at_recall_2: 0.8732\n",
            "Epoch 5/5\n",
            "297/297 [==============================] - 38s 128ms/step - loss: 0.2171 - accuracy: 0.9291 - precision: 0.9347 - recall: 0.9223 - precision_at_recall_2: 0.8805 - val_loss: 0.5441 - val_accuracy: 0.8234 - val_precision: 0.8306 - val_recall: 0.8101 - val_precision_at_recall_2: 0.8972\n"
          ],
          "name": "stdout"
        }
      ]
    },
    {
      "cell_type": "markdown",
      "metadata": {
        "id": "Rs01n_wjY2Sl"
      },
      "source": [
        "# Bidirectional LSTM Model\n"
      ]
    },
    {
      "cell_type": "code",
      "metadata": {
        "id": "LADNoPEsYu1_",
        "colab": {
          "base_uri": "https://localhost:8080/"
        },
        "outputId": "3bec2a52-b2b7-406c-c2aa-813a0c3d932c"
      },
      "source": [
        "BILSTMModel = Sequential()\n",
        "BILSTMModel.add(Input(shape=x_train.shape[1]))\n",
        "BILSTMModel.add(Embedding(len(tokenizer.word_index)+1,32))\n",
        "BILSTMModel.add(Bidirectional(LSTM(100, return_sequences=True)))\n",
        "BILSTMModel.add(GlobalMaxPooling1D())\n",
        "BILSTMModel.add(Dense(4, activation='softmax'))\n",
        "BILSTMModel.compile(loss='categorical_crossentropy', optimizer='adam', metrics=['accuracy','Precision','Recall', tf.keras.metrics.PrecisionAtRecall(recall=0.8)])\n",
        "    \n",
        "BILSTMModel.summary()"
      ],
      "execution_count": null,
      "outputs": [
        {
          "output_type": "stream",
          "text": [
            "WARNING:tensorflow:Please add `keras.layers.InputLayer` instead of `keras.Input` to Sequential model. `keras.Input` is intended to be used by Functional model.\n",
            "Model: \"sequential_3\"\n",
            "_________________________________________________________________\n",
            "Layer (type)                 Output Shape              Param #   \n",
            "=================================================================\n",
            "embedding_3 (Embedding)      (None, 70, 32)            796384    \n",
            "_________________________________________________________________\n",
            "bidirectional (Bidirectional (None, 70, 200)           106400    \n",
            "_________________________________________________________________\n",
            "global_max_pooling1d (Global (None, 200)               0         \n",
            "_________________________________________________________________\n",
            "dense_3 (Dense)              (None, 4)                 804       \n",
            "=================================================================\n",
            "Total params: 903,588\n",
            "Trainable params: 903,588\n",
            "Non-trainable params: 0\n",
            "_________________________________________________________________\n"
          ],
          "name": "stdout"
        }
      ]
    },
    {
      "cell_type": "code",
      "metadata": {
        "id": "Lwby3abfYu9v",
        "colab": {
          "base_uri": "https://localhost:8080/"
        },
        "outputId": "667516b7-9f7f-44e2-9888-2fcce769c102"
      },
      "source": [
        "BILSTMModelResults = BILSTMModel.fit(x_train, y_train, epochs=5, batch_size=64,validation_split=0.1)"
      ],
      "execution_count": null,
      "outputs": [
        {
          "output_type": "stream",
          "text": [
            "Epoch 1/5\n",
            "297/297 [==============================] - 106s 318ms/step - loss: 1.1671 - accuracy: 0.5257 - precision: 0.5810 - recall: 0.2468 - precision_at_recall_3: 0.3057 - val_loss: 0.5215 - val_accuracy: 0.8220 - val_precision: 0.8494 - val_recall: 0.7850 - val_precision_at_recall_3: 0.4847\n",
            "Epoch 2/5\n",
            "297/297 [==============================] - 93s 313ms/step - loss: 0.4341 - accuracy: 0.8531 - precision: 0.8698 - recall: 0.8329 - precision_at_recall_3: 0.5605 - val_loss: 0.4620 - val_accuracy: 0.8338 - val_precision: 0.8548 - val_recall: 0.8139 - val_precision_at_recall_3: 0.6955\n",
            "Epoch 3/5\n",
            "297/297 [==============================] - 92s 311ms/step - loss: 0.3253 - accuracy: 0.8930 - precision: 0.9052 - recall: 0.8792 - precision_at_recall_3: 0.7256 - val_loss: 0.4948 - val_accuracy: 0.8286 - val_precision: 0.8408 - val_recall: 0.8125 - val_precision_at_recall_3: 0.7853\n",
            "Epoch 4/5\n",
            "297/297 [==============================] - 92s 311ms/step - loss: 0.2681 - accuracy: 0.9124 - precision: 0.9194 - recall: 0.9047 - precision_at_recall_3: 0.8023 - val_loss: 0.4943 - val_accuracy: 0.8286 - val_precision: 0.8451 - val_recall: 0.8139 - val_precision_at_recall_3: 0.8390\n",
            "Epoch 5/5\n",
            "297/297 [==============================] - 94s 315ms/step - loss: 0.2291 - accuracy: 0.9271 - precision: 0.9333 - recall: 0.9206 - precision_at_recall_3: 0.8495 - val_loss: 0.5194 - val_accuracy: 0.8314 - val_precision: 0.8414 - val_recall: 0.8187 - val_precision_at_recall_3: 0.8735\n"
          ],
          "name": "stdout"
        }
      ]
    },
    {
      "cell_type": "markdown",
      "metadata": {
        "id": "xAlY_9yAZE5l"
      },
      "source": [
        "# Hyperparameter Tuning/ Fine Tuning"
      ]
    },
    {
      "cell_type": "code",
      "metadata": {
        "id": "MAAOThoXYvAu",
        "colab": {
          "base_uri": "https://localhost:8080/"
        },
        "outputId": "d5d28770-fc6c-4cd6-c62e-1e28fea9a402"
      },
      "source": [
        "BILSTMModel_2 = Sequential()\n",
        "BILSTMModel_2.add(Input(shape=x_train.shape[1]))\n",
        "BILSTMModel_2.add(Embedding(24887,300, weights=[embedding_matrix]))\n",
        "BILSTMModel_2.add(Bidirectional(LSTM(50, return_sequences=True, dropout=0.1, recurrent_dropout=0.1)))\n",
        "BILSTMModel_2.add(GlobalMaxPooling1D())\n",
        "BILSTMModel_2.add(Dense(50, activation='relu'))\n",
        "BILSTMModel_2.add(Dropout(0.2))\n",
        "BILSTMModel_2.add(Dense(4, activation='softmax'))\n",
        "BILSTMModel_2.compile(loss='categorical_crossentropy', optimizer='adam', metrics=['accuracy','Precision','Recall', tf.keras.metrics.PrecisionAtRecall(recall=0.8)])\n",
        "    \n",
        "BILSTMModel_2.summary()"
      ],
      "execution_count": null,
      "outputs": [
        {
          "output_type": "stream",
          "text": [
            "WARNING:tensorflow:Please add `keras.layers.InputLayer` instead of `keras.Input` to Sequential model. `keras.Input` is intended to be used by Functional model.\n",
            "Model: \"sequential_4\"\n",
            "_________________________________________________________________\n",
            "Layer (type)                 Output Shape              Param #   \n",
            "=================================================================\n",
            "embedding_4 (Embedding)      (None, 70, 300)           7466100   \n",
            "_________________________________________________________________\n",
            "bidirectional_1 (Bidirection (None, 70, 100)           140400    \n",
            "_________________________________________________________________\n",
            "global_max_pooling1d_1 (Glob (None, 100)               0         \n",
            "_________________________________________________________________\n",
            "dense_4 (Dense)              (None, 50)                5050      \n",
            "_________________________________________________________________\n",
            "dropout (Dropout)            (None, 50)                0         \n",
            "_________________________________________________________________\n",
            "dense_5 (Dense)              (None, 4)                 204       \n",
            "=================================================================\n",
            "Total params: 7,611,754\n",
            "Trainable params: 7,611,754\n",
            "Non-trainable params: 0\n",
            "_________________________________________________________________\n"
          ],
          "name": "stdout"
        }
      ]
    },
    {
      "cell_type": "code",
      "metadata": {
        "id": "cPV4aFReYvFY",
        "colab": {
          "base_uri": "https://localhost:8080/"
        },
        "outputId": "83357073-a42a-4946-8fea-04e3bbb2c81b"
      },
      "source": [
        "BILSTMModel_2Results = BILSTMModel_2.fit(x_train, y_train, epochs=5, batch_size=64,validation_split=0.1)"
      ],
      "execution_count": null,
      "outputs": [
        {
          "output_type": "stream",
          "text": [
            "Epoch 1/5\n",
            "297/297 [==============================] - 189s 588ms/step - loss: 0.9542 - accuracy: 0.6120 - precision: 0.7025 - recall: 0.4175 - precision_at_recall_4: 0.3846 - val_loss: 0.4578 - val_accuracy: 0.8423 - val_precision: 0.8645 - val_recall: 0.8125 - val_precision_at_recall_4: 0.6685\n",
            "Epoch 2/5\n",
            "297/297 [==============================] - 175s 589ms/step - loss: 0.4126 - accuracy: 0.8594 - precision: 0.8746 - recall: 0.8427 - precision_at_recall_4: 0.7211 - val_loss: 0.4181 - val_accuracy: 0.8608 - val_precision: 0.8713 - val_recall: 0.8433 - val_precision_at_recall_4: 0.7959\n",
            "Epoch 3/5\n",
            "297/297 [==============================] - 175s 590ms/step - loss: 0.3319 - accuracy: 0.8904 - precision: 0.9023 - recall: 0.8774 - precision_at_recall_4: 0.8150 - val_loss: 0.4143 - val_accuracy: 0.8556 - val_precision: 0.8637 - val_recall: 0.8490 - val_precision_at_recall_4: 0.8517\n",
            "Epoch 4/5\n",
            "297/297 [==============================] - 175s 589ms/step - loss: 0.2640 - accuracy: 0.9140 - precision: 0.9231 - recall: 0.9059 - precision_at_recall_4: 0.8628 - val_loss: 0.4192 - val_accuracy: 0.8603 - val_precision: 0.8688 - val_recall: 0.8499 - val_precision_at_recall_4: 0.8875\n",
            "Epoch 5/5\n",
            "297/297 [==============================] - 172s 579ms/step - loss: 0.2121 - accuracy: 0.9324 - precision: 0.9365 - recall: 0.9275 - precision_at_recall_4: 0.8945 - val_loss: 0.4645 - val_accuracy: 0.8494 - val_precision: 0.8560 - val_recall: 0.8390 - val_precision_at_recall_4: 0.9097\n"
          ],
          "name": "stdout"
        }
      ]
    },
    {
      "cell_type": "markdown",
      "metadata": {
        "id": "D0ZhtUMXXDPl"
      },
      "source": [
        "# Сохранение моделей"
      ]
    },
    {
      "cell_type": "code",
      "metadata": {
        "id": "yN1FbXRRYvJg"
      },
      "source": [
        "SimpleRNNModel.save(\"/content/drive/MyDrive/4/Модели/SimpleRNNModel.h5\")\n",
        "SimpleLSTMModel.save(\"/content/drive/MyDrive/4/Модели/SimpleLSTMModel.h5\")\n",
        "SimpleGRUModel.save(\"/content/drive/MyDrive/4/Модели/SimpleGRUModel.h5\")\n",
        "BILSTMModel.save(\"/content/drive/MyDrive/4/Модели/BILSTMModel.h5\")\n",
        "BILSTMModel_2.save(\"/content/drive/MyDrive/4/Модели/BILSTMModel_2.h5\")\n",
        "\n"
      ],
      "execution_count": null,
      "outputs": []
    },
    {
      "cell_type": "code",
      "metadata": {
        "colab": {
          "base_uri": "https://localhost:8080/"
        },
        "id": "jX6PPwP7nt4K",
        "outputId": "668a8458-2924-452c-a4d6-1293a72c0f16"
      },
      "source": [
        "print(type(train['review'].values[1]))"
      ],
      "execution_count": null,
      "outputs": [
        {
          "output_type": "stream",
          "text": [
            "<class 'str'>\n"
          ],
          "name": "stdout"
        }
      ]
    },
    {
      "cell_type": "code",
      "metadata": {
        "colab": {
          "base_uri": "https://localhost:8080/"
        },
        "id": "5n9HPmQ9nsHa",
        "outputId": "b3bedfaa-df04-46d6-901b-e79f0bd335f2"
      },
      "source": [
        "R = \"I am sad\"\n",
        "R = tokenizer.texts_to_sequences(R)\n",
        "R = sequence.pad_sequences(X, maxlen=max_len)\n",
        "\n",
        "print('Shape of data tensor:', X.shape)"
      ],
      "execution_count": null,
      "outputs": [
        {
          "output_type": "stream",
          "text": [
            "Shape of data tensor: (30160, 70)\n"
          ],
          "name": "stdout"
        }
      ]
    },
    {
      "cell_type": "code",
      "metadata": {
        "colab": {
          "base_uri": "https://localhost:8080/"
        },
        "id": "CzDggBVLB4Jd",
        "outputId": "5da01e28-b55e-4400-bb15-1f81832349ff"
      },
      "source": [
        "BILSTMModel_2.predict(R)"
      ],
      "execution_count": null,
      "outputs": [
        {
          "output_type": "execute_result",
          "data": {
            "text/plain": [
              "array([[3.5216109e-04, 6.8508966e-06, 9.9958366e-01, 5.7364370e-05],\n",
              "       [1.9674664e-02, 1.1108759e-03, 8.4662527e-01, 1.3258918e-01],\n",
              "       [8.8441791e-03, 3.1515816e-03, 9.8633331e-01, 1.6709854e-03],\n",
              "       ...,\n",
              "       [6.9408532e-04, 2.5791656e-03, 9.9155211e-01, 5.1746028e-03],\n",
              "       [8.3590037e-04, 1.4830613e-01, 8.4371799e-01, 7.1399990e-03],\n",
              "       [1.2121638e-01, 1.3621744e-02, 8.2696044e-01, 3.8201474e-02]],\n",
              "      dtype=float32)"
            ]
          },
          "metadata": {
            "tags": []
          },
          "execution_count": 57
        }
      ]
    },
    {
      "cell_type": "code",
      "metadata": {
        "colab": {
          "base_uri": "https://localhost:8080/"
        },
        "id": "DvLDXjpYCjTO",
        "outputId": "bfb94643-cbd2-40a2-ec55-e2f6ed0dad75"
      },
      "source": [
        "print(np.argmax(BILSTMModel_2.predict(R), axis=-1))"
      ],
      "execution_count": null,
      "outputs": [
        {
          "output_type": "stream",
          "text": [
            "[2 2 2 ... 2 2 2]\n"
          ],
          "name": "stdout"
        }
      ]
    },
    {
      "cell_type": "code",
      "metadata": {
        "id": "zaBQO-h7pog7",
        "colab": {
          "base_uri": "https://localhost:8080/",
          "height": 231
        },
        "outputId": "0be88c97-68fd-4376-b2c0-accf15ab358c"
      },
      "source": [
        "label = train['label'].unique()\n",
        "prediction = model.predict(R)\n",
        "pred_name = label[np.argmax(prediction)]\n",
        "print(pred_name)\n",
        "#model.predict(R)\n",
        "\n"
      ],
      "execution_count": null,
      "outputs": [
        {
          "output_type": "error",
          "ename": "IndexError",
          "evalue": "ignored",
          "traceback": [
            "\u001b[0;31m---------------------------------------------------------------------------\u001b[0m",
            "\u001b[0;31mIndexError\u001b[0m                                Traceback (most recent call last)",
            "\u001b[0;32m<ipython-input-62-713209615fe8>\u001b[0m in \u001b[0;36m<module>\u001b[0;34m()\u001b[0m\n\u001b[1;32m      1\u001b[0m \u001b[0mlabel\u001b[0m \u001b[0;34m=\u001b[0m \u001b[0mtrain\u001b[0m\u001b[0;34m[\u001b[0m\u001b[0;34m'label'\u001b[0m\u001b[0;34m]\u001b[0m\u001b[0;34m.\u001b[0m\u001b[0munique\u001b[0m\u001b[0;34m(\u001b[0m\u001b[0;34m)\u001b[0m\u001b[0;34m\u001b[0m\u001b[0;34m\u001b[0m\u001b[0m\n\u001b[1;32m      2\u001b[0m \u001b[0mprediction\u001b[0m \u001b[0;34m=\u001b[0m \u001b[0mmodel\u001b[0m\u001b[0;34m.\u001b[0m\u001b[0mpredict\u001b[0m\u001b[0;34m(\u001b[0m\u001b[0mR\u001b[0m\u001b[0;34m)\u001b[0m\u001b[0;34m\u001b[0m\u001b[0;34m\u001b[0m\u001b[0m\n\u001b[0;32m----> 3\u001b[0;31m \u001b[0mpred_name\u001b[0m \u001b[0;34m=\u001b[0m \u001b[0mlabel\u001b[0m\u001b[0;34m[\u001b[0m\u001b[0mnp\u001b[0m\u001b[0;34m.\u001b[0m\u001b[0margmax\u001b[0m\u001b[0;34m(\u001b[0m\u001b[0mprediction\u001b[0m\u001b[0;34m)\u001b[0m\u001b[0;34m]\u001b[0m\u001b[0;34m\u001b[0m\u001b[0;34m\u001b[0m\u001b[0m\n\u001b[0m\u001b[1;32m      4\u001b[0m \u001b[0mprint\u001b[0m\u001b[0;34m(\u001b[0m\u001b[0mpred_name\u001b[0m\u001b[0;34m)\u001b[0m\u001b[0;34m\u001b[0m\u001b[0;34m\u001b[0m\u001b[0m\n\u001b[1;32m      5\u001b[0m \u001b[0;31m#model.predict(R)\u001b[0m\u001b[0;34m\u001b[0m\u001b[0;34m\u001b[0m\u001b[0;34m\u001b[0m\u001b[0m\n",
            "\u001b[0;31mIndexError\u001b[0m: index 109564 is out of bounds for axis 0 with size 4"
          ]
        }
      ]
    },
    {
      "cell_type": "code",
      "metadata": {
        "colab": {
          "base_uri": "https://localhost:8080/"
        },
        "id": "SllJIQfa7BQ-",
        "outputId": "3bb63334-b2f2-4ff5-ba67-f6a09d010659"
      },
      "source": [
        "np.argmax(model.predict(R), axis=-1)"
      ],
      "execution_count": null,
      "outputs": [
        {
          "output_type": "execute_result",
          "data": {
            "text/plain": [
              "array([2, 0, 2, ..., 2, 2, 2])"
            ]
          },
          "metadata": {
            "tags": []
          },
          "execution_count": 53
        }
      ]
    },
    {
      "cell_type": "code",
      "metadata": {
        "colab": {
          "base_uri": "https://localhost:8080/"
        },
        "id": "YdhFfjVe7JBF",
        "outputId": "6213129e-0fbb-428a-af36-745a13b48a1f"
      },
      "source": [
        "(model.predict(R) > 0.5).astype(\"int32\")"
      ],
      "execution_count": null,
      "outputs": [
        {
          "output_type": "execute_result",
          "data": {
            "text/plain": [
              "array([[0, 0, 1, 0],\n",
              "       [1, 0, 0, 0],\n",
              "       [0, 0, 1, 0],\n",
              "       ...,\n",
              "       [0, 0, 1, 0],\n",
              "       [0, 0, 1, 0],\n",
              "       [0, 0, 1, 0]], dtype=int32)"
            ]
          },
          "metadata": {
            "tags": []
          },
          "execution_count": 54
        }
      ]
    }
  ]
}